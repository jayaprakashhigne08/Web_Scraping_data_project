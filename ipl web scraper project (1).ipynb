{
 "cells": [
  {
   "cell_type": "code",
   "execution_count": 4,
   "id": "c43e7f0f-345b-4446-8317-2ac32a15ec15",
   "metadata": {},
   "outputs": [
    {
     "name": "stdout",
     "output_type": "stream",
     "text": [
      "Requirement already satisfied: beautifulsoup4 in c:\\users\\avg001\\anaconda3\\lib\\site-packages (4.12.2)\n",
      "Requirement already satisfied: soupsieve>1.2 in c:\\users\\avg001\\anaconda3\\lib\\site-packages (from beautifulsoup4) (2.5)\n",
      "Note: you may need to restart the kernel to use updated packages.\n"
     ]
    }
   ],
   "source": [
    "pip install beautifulsoup4\n"
   ]
  },
  {
   "cell_type": "code",
   "execution_count": 5,
   "id": "dd1e1c7e-5dff-4917-aa61-e108b3a4c97c",
   "metadata": {},
   "outputs": [],
   "source": [
    "#   import libraries \n",
    "\n",
    "from bs4 import BeautifulSoup\n",
    "import requests    \n",
    "import pandas as pd"
   ]
  },
  {
   "cell_type": "code",
   "execution_count": 36,
   "id": "74b8644c-b697-4b44-b29b-eed107d33530",
   "metadata": {},
   "outputs": [
    {
     "name": "stdout",
     "output_type": "stream",
     "text": [
      "                          TEAM FUNDS REMAINING OVERSEAS PLAYERS TOTAL PLAYERS\n",
      "0          Chennai Super Kings    ₹1,50,00,000                8            25\n",
      "1               Delhi Capitals    ₹4,45,00,000                8            25\n",
      "2               Gujarat Titans    ₹4,45,00,000                8            25\n",
      "3        Kolkata Knight Riders    ₹1,65,00,000                8            22\n",
      "4         Lucknow Super Giants    ₹3,55,00,000                8            25\n",
      "5               Mumbai Indians       ₹5,00,000                8            24\n",
      "6                 Punjab Kings   ₹12,20,00,000                7            22\n",
      "7             Rajasthan Royals    ₹3,35,00,000                8            25\n",
      "8  Royal Challengers Bangalore    ₹1,75,00,000                8            25\n",
      "9          Sunrisers Hyderabad    ₹6,55,00,000                8            25\n",
      "Data saved to ipl_Auction_data.xlsx\n"
     ]
    }
   ],
   "source": [
    "\n",
    "import requests\n",
    "from bs4 import BeautifulSoup\n",
    "import pandas as pd\n",
    "\n",
    "url = 'https://www.iplt20.com/auction/2023'\n",
    "r = requests.get(url)\n",
    "\n",
    "# Parse the HTML\n",
    "soup = BeautifulSoup(r.text, \"lxml\")\n",
    "\n",
    "# Find the table\n",
    "table = soup.find(\"table\", class_=\"ih-td-tab\")\n",
    "if table is None:\n",
    "    print(\"No table found. Check the class name or HTML structure.\")\n",
    "    exit()\n",
    "\n",
    "# Extract headers\n",
    "title = table.find_all(\"th\")\n",
    "header = [i.text.strip() for i in title]\n",
    "\n",
    "# Create a DataFrame with the headers\n",
    "df = pd.DataFrame(columns=header)\n",
    "\n",
    "# Extract rows\n",
    "rows = table.find_all(\"tr\")  # Find all rows in the table\n",
    "for row in rows[1:]:  # Skip the header row\n",
    "    data = row.find_all(\"td\")\n",
    "    row_data = [td.text.strip() for td in data]\n",
    "    \n",
    "    # Ensure the row matches the header length\n",
    "    if len(row_data) == len(header):\n",
    "        df.loc[len(df)] = row_data\n",
    "    else:\n",
    "        print(f\"Skipping mismatched row: {row_data}\")\n",
    "\n",
    "# Print the resulting DataFrame\n",
    "print(df)\n",
    "\n",
    "# Save to Excel file\n",
    "excel_filename = \"ipl_Auction_data.xlsx\"\n",
    "df.to_excel(excel_filename, index=False)\n",
    "print(f\"Data saved to {excel_filename}\")\n"
   ]
  },
  {
   "cell_type": "code",
   "execution_count": null,
   "id": "2cf2eafe-f23d-444f-b277-a6cc989e0342",
   "metadata": {},
   "outputs": [],
   "source": []
  }
 ],
 "metadata": {
  "kernelspec": {
   "display_name": "Python 3 (ipykernel)",
   "language": "python",
   "name": "python3"
  },
  "language_info": {
   "codemirror_mode": {
    "name": "ipython",
    "version": 3
   },
   "file_extension": ".py",
   "mimetype": "text/x-python",
   "name": "python",
   "nbconvert_exporter": "python",
   "pygments_lexer": "ipython3",
   "version": "3.11.7"
  }
 },
 "nbformat": 4,
 "nbformat_minor": 5
}
